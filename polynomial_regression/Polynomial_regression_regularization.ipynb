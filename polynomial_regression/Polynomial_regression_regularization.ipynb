{
  "nbformat": 4,
  "nbformat_minor": 0,
  "metadata": {
    "kernelspec": {
      "display_name": "Python 3",
      "language": "python",
      "name": "python3"
    },
    "language_info": {
      "codemirror_mode": {
        "name": "ipython",
        "version": 3
      },
      "file_extension": ".py",
      "mimetype": "text/x-python",
      "name": "python",
      "nbconvert_exporter": "python",
      "pygments_lexer": "ipython3",
      "version": "3.7.6"
    },
    "colab": {
      "name": "Copy of Polynomial_regression_regularization.ipynb",
      "provenance": [],
      "collapsed_sections": []
    }
  },
  "cells": [
    {
      "cell_type": "markdown",
      "metadata": {
        "id": "eyjewtSBMA95"
      },
      "source": [
        "# Testing and regularization"
      ]
    },
    {
      "cell_type": "code",
      "metadata": {
        "id": "y_RXtj1eMCb3",
        "colab": {
          "base_uri": "https://localhost:8080/"
        },
        "outputId": "393934a1-7405-43cb-a155-adf61a95b401"
      },
      "source": [
        "!git clone https://github.com/s7s/machine_learning_1.git\n",
        "%cd  machine_learning_1/polynomial_regression"
      ],
      "execution_count": 1,
      "outputs": [
        {
          "output_type": "stream",
          "name": "stdout",
          "text": [
            "Cloning into 'machine_learning_1'...\n",
            "remote: Enumerating objects: 186, done.\u001b[K\n",
            "remote: Counting objects: 100% (186/186), done.\u001b[K\n",
            "remote: Compressing objects: 100% (134/134), done.\u001b[K\n",
            "remote: Total 186 (delta 85), reused 150 (delta 49), pack-reused 0\u001b[K\n",
            "Receiving objects: 100% (186/186), 34.12 MiB | 13.13 MiB/s, done.\n",
            "Resolving deltas: 100% (85/85), done.\n",
            "/content/machine_learning_1/polynomial_regression\n"
          ]
        }
      ]
    },
    {
      "cell_type": "code",
      "metadata": {
        "id": "YpX56PtFMA-A"
      },
      "source": [
        "import pandas as pd\n",
        "import numpy as np\n",
        "import random\n",
        "import matplotlib.pyplot as plt\n",
        "random.seed(0)"
      ],
      "execution_count": 2,
      "outputs": []
    },
    {
      "cell_type": "markdown",
      "metadata": {
        "id": "WBD0ZY2wMA-B"
      },
      "source": [
        "## Defining our dataset"
      ]
    },
    {
      "cell_type": "code",
      "metadata": {
        "id": "4sDgbZNRMA-C",
        "colab": {
          "base_uri": "https://localhost:8080/",
          "height": 269
        },
        "outputId": "1bf1af7d-c788-4e1f-e46e-74c69822d795"
      },
      "source": [
        "# Our original polynomial is -x^2+x+15\n",
        "coefs = [15,1,-1]\n",
        "\n",
        "def polynomial(coefs, x):\n",
        "    n = len(coefs)\n",
        "    return sum([coefs[i]*x**i for i in range(n)])\n",
        "\n",
        "def draw_polynomial(coefs):\n",
        "    n = len(coefs)\n",
        "    x = np.linspace(-5, 5, 1000)\n",
        "    plt.ylim(-20,20)\n",
        "    plt.plot(x, sum([coefs[i]*x**i for i in range(n)]), linestyle='-', color='black')\n",
        "\n",
        "draw_polynomial(coefs)"
      ],
      "execution_count": 3,
      "outputs": [
        {
          "output_type": "display_data",
          "data": {
            "text/plain": [
              "<Figure size 432x288 with 1 Axes>"
            ],
            "image/png": "[encoded data removed]"
          },
          "metadata": {
            "needs_background": "light"
          }
        }
      ]
    },
    {
      "cell_type": "code",
      "metadata": {
        "id": "WvGqHRFCMA-E"
      },
      "source": [
        "X = []\n",
        "Y = []\n",
        "for i in range(40):\n",
        "    x = random.uniform(-5,5)\n",
        "    y = polynomial(coefs, x) + random.gauss(0,2)\n",
        "    X.append(x)\n",
        "    Y.append(y)\n",
        "X=np.array(X)\n",
        "Y=np.array(Y)"
      ],
      "execution_count": 5,
      "outputs": []
    },
    {
      "cell_type": "code",
      "metadata": {
        "id": "ETQxgGiFMA-E",
        "colab": {
          "base_uri": "https://localhost:8080/",
          "height": 282
        },
        "outputId": "eb54d3c9-05fe-42ce-c9e9-cef01104c229"
      },
      "source": [
        "plt.scatter(X, Y)\n",
        "\n",
        "#draw_polynomial(coefs)"
      ],
      "execution_count": 6,
      "outputs": [
        {
          "output_type": "execute_result",
          "data": {
            "text/plain": [
              "<matplotlib.collections.PathCollection at 0x7f2acb72d290>"
            ]
          },
          "metadata": {},
          "execution_count": 6
        },
        {
          "output_type": "display_data",
          "data": {
            "text/plain": [
              "<Figure size 432x288 with 1 Axes>"
            ],
            "image/png": "[encoded data removed]"
          },
          "metadata": {
            "needs_background": "light"
          }
        }
      ]
    },
    {
      "cell_type": "markdown",
      "metadata": {
        "id": "wLUfmV9iMA-F"
      },
      "source": [
        "## Training a polynomial regression model"
      ]
    },
    {
      "cell_type": "code",
      "metadata": {
        "id": "xsNmJ6hoGPjb",
        "colab": {
          "base_uri": "https://localhost:8080/"
        },
        "outputId": "00de4cb6-ce75-443d-b7d0-ef17ef806cb7"
      },
      "source": [
        "for datasample in zip(X,Y):\n",
        "    print(datasample)"
      ],
      "execution_count": 7,
      "outputs": [
        {
          "output_type": "stream",
          "name": "stdout",
          "text": [
            "(3.4442185152504816, 6.685961311021467)\n",
            "(-2.4108324970703663, 4.690236225597948)\n",
            "(0.11274721368608542, 12.205789026637378)\n",
            "(-1.9668727392107255, 11.133217991032268)\n",
            "(-0.23403045847644144, 10.927272159051856)\n",
            "(0.046868558173902564, 12.8584762866286)\n",
            "(-2.1816215560029617, 8.16012255928749)\n",
            "(-2.4949365863755943, 3.5061587527226514)\n",
            "(4.097462559682402, 5.933186396721837)\n",
            "(4.021659504395828, 2.454299054753137)\n",
            "(-1.8985243068066735, 8.956020414039855)\n",
            "(1.8398393191544127, 9.208004401915796)\n",
            "(-0.2785728454728664, 16.36505651355184)\n",
            "(1.1088697344380165, 16.14144978027318)\n",
            "(4.130110532378982, 4.299534274468492)\n",
            "(3.6530992777164, 4.83366913200435)\n",
            "(-2.395076896080406, 7.723543125251446)\n",
            "(-4.8595829983598104, -15.848718674227753)\n",
            "(2.1970468640395415, 9.366124268570305)\n",
            "(1.6815320123185087, 16.070558182542374)\n",
            "(-4.988571806855717, -18.893035332565795)\n",
            "(-2.5608912311286804, 6.043189895391749)\n",
            "(-1.7479563725260991, 11.091071520573042)\n",
            "(0.6751074062067186, 14.272553413210698)\n",
            "(-2.6138407138477984, 9.085321805751548)\n",
            "(-0.5203042856442961, 13.47860807272069)\n",
            "(-4.195541814474646, -7.812998091307244)\n",
            "(4.3283382422690675, 2.748647759010411)\n",
            "(-3.909421540688963, -7.163796336350065)\n",
            "(0.4744091132842376, 14.257854146830486)\n",
            "(3.14466863291336, 3.2664703661537313)\n",
            "(1.0318562796138302, 13.67662422703284)\n",
            "(0.8761706417543635, 12.57404063707232)\n",
            "(-1.1509885402733957, 13.436894195835206)\n",
            "(0.7565101416488851, 14.859288476607356)\n",
            "(-3.132704717444449, 3.3081236367340967)\n",
            "(1.1277317986860673, 13.596584816754236)\n",
            "(-4.1017563880440635, -7.821475002235993)\n",
            "(2.576039219664368, 14.181083579723474)\n",
            "(3.424602231401824, 3.5269925176080537)\n"
          ]
        }
      ]
    },
    {
      "cell_type": "markdown",
      "metadata": {
        "id": "Pze2ZphQMA-G"
      },
      "source": [
        "### Adding columns to our dataset corresponding to $x^2, x^3, \\ldots, x^{200}$"
      ]
    },
    {
      "cell_type": "code",
      "metadata": {
        "id": "c2XZgASOGfVv"
      },
      "source": [
        "from sklearn.preprocessing import PolynomialFeatures\n",
        "def addPoly(X,polyDegree):\n",
        "    ## TODO ##\n",
        "    #use sklearn (PolynomialFeatures method)\n",
        "    poly = PolynomialFeatures(200,include_bias = False)\n",
        "    X = poly.fit_transform(X.reshape(-1,1))\n",
        "\n",
        "    return X\n",
        "X_poly=addPoly(X,200)"
      ],
      "execution_count": 14,
      "outputs": []
    },
    {
      "cell_type": "code",
      "metadata": {
        "id": "kKXdyM7fGzLC",
        "colab": {
          "base_uri": "https://localhost:8080/"
        },
        "outputId": "c5445e4e-318b-4050-c427-dfdd0f9a875a"
      },
      "source": [
        "print(X_poly.shape)\n",
        "print(X_poly[0,:])"
      ],
      "execution_count": 15,
      "outputs": [
        {
          "output_type": "stream",
          "name": "stdout",
          "text": [
            "(40, 200)\n",
            "[3.44421852e+000 1.18626412e+001 4.08575284e+001 1.40722256e+002\n",
            " 4.84678199e+002 1.66933763e+003 5.74956356e+003 1.98027533e+004\n",
            " 6.82050095e+004 2.34912956e+005 8.09091554e+005 2.78668811e+006\n",
            " 9.59796279e+006 3.30574811e+007 1.13857189e+008 3.92149037e+008\n",
            " 1.35064697e+009 4.65192332e+009 1.60222404e+010 5.51840971e+010\n",
            " 1.90066089e+011 6.54629143e+011 2.25468581e+012 7.76563063e+012\n",
            " 2.67465288e+013 9.21208897e+013 3.17284474e+014 1.09279706e+015\n",
            " 3.76383187e+015 1.29634594e+016 4.46489869e+016 1.53780867e+017\n",
            " 5.29654911e+017 1.82424725e+018 6.28310616e+018 2.16403906e+019\n",
            " 7.45342338e+019 2.56712188e+020 8.84172871e+020 3.04528457e+021\n",
            " 1.04886255e+022 3.61251182e+022 1.24422801e+023 4.28539315e+023\n",
            " 1.47598304e+024 5.08360812e+024 1.75090572e+025 6.03050191e+025\n",
            " 2.07703663e+026 7.15376803e+026 2.46391403e+027 8.48625832e+027\n",
            " 2.92285280e+028 1.00669437e+029 3.46727540e+029 1.19420541e+030\n",
            " 4.11310440e+030 1.41664303e+031 4.87922816e+031 1.68051280e+032\n",
            " 5.78805329e+032 1.99353203e+033 6.86615993e+033 2.36485552e+034\n",
            " 8.14507916e+034 2.80534324e+035 9.66221514e+035 3.32787803e+036\n",
            " 1.14619391e+037 3.94774230e+037 1.35968871e+038 4.68306503e+038\n",
            " 1.61294993e+039 5.55535201e+039 1.91338463e+040 6.59011475e+040\n",
            " 2.26977953e+041 7.81761667e+041 2.69255801e+042 9.27375814e+042\n",
            " 3.19408495e+043 1.10011265e+044 3.78902837e+044 1.30502417e+045\n",
            " 4.49478839e+045 1.54810334e+046 5.33200619e+046 1.83645944e+047\n",
            " 6.32516762e+047 2.17852594e+048 7.50331939e+048 2.58430716e+049\n",
            " 8.90091855e+049 3.06567085e+050 1.05588403e+051 3.63669533e+051\n",
            " 1.25255734e+052 4.31408117e+052 1.48586383e+053 5.11763970e+053\n",
            " 1.76262694e+054 6.07087234e+054 2.09094109e+055 7.20165803e+055\n",
            " 2.48040839e+056 8.54306851e+056 2.94241947e+057 1.01343356e+058\n",
            " 3.49048664e+058 1.20219987e+059 4.14063906e+059 1.42612657e+060\n",
            " 4.91189154e+060 1.69176278e+061 5.82680069e+061 2.00687748e+062\n",
            " 6.91212458e+062 2.38068674e+063 8.19960536e+063 2.82412326e+064\n",
            " 9.72689763e+064 3.35015609e+065 1.15386696e+066 3.97416996e+066\n",
            " 1.36879098e+067 4.71441522e+067 1.62374762e+068 5.59254162e+068\n",
            " 1.92619354e+069 6.63423145e+069 2.28497428e+070 7.86995072e+070\n",
            " 2.71058300e+071 9.33584015e+071 3.21546735e+072 1.10747722e+073\n",
            " 3.81439354e+073 1.31376049e+074 4.52487819e+074 1.55846692e+075\n",
            " 5.36770063e+075 1.84875339e+076 6.36751066e+076 2.19310981e+077\n",
            " 7.55354941e+077 2.60160747e+078 8.96050463e+078 3.08619360e+079\n",
            " 1.06295251e+080 3.66104073e+080 1.26094243e+081 4.34296125e+081\n",
            " 1.49581075e+082 5.15189909e+082 1.77442662e+083 6.11151303e+083\n",
            " 2.10493864e+084 7.24986862e+084 2.49701317e+085 8.60025901e+085\n",
            " 2.96211713e+086 1.02021787e+087 3.51385326e+087 1.21024785e+088\n",
            " 4.16835804e+088 1.43567360e+089 4.94477358e+089 1.70308807e+090\n",
            " 5.86580747e+090 2.02031227e+091 6.95839692e+091 2.39662395e+092\n",
            " 8.25449659e+092 2.84302900e+093 9.79201312e+093 3.37258329e+094\n",
            " 1.16159138e+095 4.00077454e+095 1.37795417e+096 4.74597528e+096\n",
            " 1.63461759e+097 5.62998018e+097 1.93908820e+098 6.67864348e+098\n",
            " 2.30027075e+099 7.92263511e+099 2.72872865e+100 9.39833775e+100\n",
            " 3.23699289e+101 1.11489108e+102 3.83992852e+102 1.32255529e+103\n",
            " 4.55516942e+103 1.56889988e+104 5.40363403e+104 1.86112964e+105\n",
            " 6.41013716e+105 2.20779131e+106 7.60411570e+106 2.61902361e+107]\n"
          ]
        }
      ]
    },
    {
      "cell_type": "markdown",
      "metadata": {
        "id": "S8uYLISVMA-H"
      },
      "source": [
        "## Splitting data into training and testing"
      ]
    },
    {
      "cell_type": "code",
      "metadata": {
        "id": "fVnfiOyqMNLg"
      },
      "source": [
        "from sklearn.model_selection import train_test_split\n",
        "\n",
        "## TODO ##\n",
        "# use sklearn (train_test_split) to split data to 80% training 20% testing\n",
        "X_train, X_test, y_train, y_test = train_test_split(X_poly,Y,test_size=0.2)"
      ],
      "execution_count": 18,
      "outputs": []
    },
    {
      "cell_type": "code",
      "metadata": {
        "id": "WmHYknzXMA-I"
      },
      "source": [
        "from sklearn.metrics import mean_squared_error\n",
        "def display_results(model):\n",
        "    coefs = [model.intercept_]\n",
        "    coefs += list(model.coef_)\n",
        "    ytrain_predict=model.predict(X_train)\n",
        "    ytest_predict=model.predict(X_test)\n",
        "    train_error=np.sqrt(mean_squared_error(y_train,ytrain_predict))\n",
        "    test_error=np.sqrt(mean_squared_error(y_test,ytest_predict))\n",
        "    print(\"Training error (rmse):\", train_error)\n",
        "    print(\"Testing error (rmse):\", test_error)\n",
        "    plt.scatter(X_train[:,0], y_train, marker='o')\n",
        "    plt.scatter(X_test[:,0], y_test, marker='^')\n",
        "    draw_polynomial(coefs)\n",
        "    plt.show()\n",
        "    print(\"Polynomial coefficients\")\n",
        "    print(coefs)"
      ],
      "execution_count": 19,
      "outputs": []
    },
    {
      "cell_type": "markdown",
      "metadata": {
        "id": "G9x4Q5S3MA-I"
      },
      "source": [
        "## Training a polynomial regression model with no regularization"
      ]
    },
    {
      "cell_type": "code",
      "metadata": {
        "id": "QKm7sV7JMA-J",
        "colab": {
          "base_uri": "https://localhost:8080/"
        },
        "outputId": "6d8eb248-454c-4fea-d5a7-4c928e84d249"
      },
      "source": [
        "from sklearn.linear_model import LinearRegression\n",
        "## TODO ##\n",
        "# use sklearn linear regression to fit the data \n",
        "# normalization trick ;)\n",
        "\n",
        "model_no_reg = LinearRegression(normalize = True)\n",
        "model_no_reg.fit(X_train,  y_train)\n",
        "\n",
        "\n"
      ],
      "execution_count": 27,
      "outputs": [
        {
          "output_type": "stream",
          "name": "stderr",
          "text": [
            "/usr/local/lib/python3.7/dist-packages/sklearn/linear_model/_base.py:145: FutureWarning: 'normalize' was deprecated in version 1.0 and will be removed in 1.2.\n",
            "If you wish to scale the data, use Pipeline with a StandardScaler in a preprocessing stage. To reproduce the previous behavior:\n",
            "\n",
            "from sklearn.pipeline import make_pipeline\n",
            "\n",
            "model = make_pipeline(StandardScaler(with_mean=False), LinearRegression())\n",
            "\n",
            "If you wish to pass a sample_weight parameter, you need to pass it as a fit parameter to each step of the pipeline as follows:\n",
            "\n",
            "kwargs = {s[0] + '__sample_weight': sample_weight for s in model.steps}\n",
            "model.fit(X, y, **kwargs)\n",
            "\n",
            "\n",
            "  FutureWarning,\n"
          ]
        },
        {
          "output_type": "execute_result",
          "data": {
            "text/plain": [
              "LinearRegression(normalize=True)"
            ]
          },
          "metadata": {},
          "execution_count": 27
        }
      ]
    },
    {
      "cell_type": "code",
      "metadata": {
        "id": "uje8MamakgwD",
        "colab": {
          "base_uri": "https://localhost:8080/",
          "height": 358
        },
        "outputId": "58edbca5-79d9-4fca-bea4-d03027d96af1"
      },
      "source": [
        "display_results(model_no_reg)"
      ],
      "execution_count": 28,
      "outputs": [
        {
          "output_type": "stream",
          "name": "stdout",
          "text": [
            "Training error (rmse): 0.5671686823487019\n",
            "Testing error (rmse): 2456686764.5019913\n"
          ]
        },
        {
          "output_type": "display_data",
          "data": {
            "text/plain": [
              "<Figure size 432x288 with 1 Axes>"
            ],
            "image/png": "[encoded data removed]"
          },
          "metadata": {
            "needs_background": "light"
          }
        },
        {
          "output_type": "stream",
          "name": "stdout",
          "text": [
            "Polynomial coefficients\n",
            "[10.646925345561815, 18.40666993225727, 73.13211089184747, -342.6341147203324, -253.20517076206917, 1712.7901647817405, -1.8406200446988832, -3338.5799972586806, 490.60580221196875, 3405.464867702103, -468.44343560337256, -2036.4898458463356, 169.52221675280043, 740.4249671860393, -21.415751862571323, -164.48383449633394, -1.7242482801243981, 21.731984588335816, 0.6924486320143044, -1.5456322005484546, -0.05151623548860932, 0.03791420025477354, -0.00036290170139795876, 0.0013252268043796834, 0.00010928178354506695, -3.8454767994742645e-05, 2.7464350593417324e-06, -2.414459077597142e-06, -8.838536792496898e-08, -3.002202673713782e-08, -7.774775910441868e-09, 1.8185947987081632e-09, -2.3771944123276223e-10, 1.2458326386134286e-10, -1.7425777518062793e-12, 4.227099956479441e-12, 2.2550428995127558e-13, 8.16830312674566e-14, 1.5262208325123178e-14, -5.730534793644525e-16, 6.3303101338606e-16, -1.4460895127069043e-16, 1.9959638364945392e-17, -8.670388949723277e-18, 4.942715601476004e-19, -3.8662125817378767e-19, 5.774523078375987e-21, -1.51583584527125e-20, -2.2408865362972334e-22, -5.317562590264961e-22, -2.311168890374048e-23, -1.740522046099745e-23, -1.2846406287760386e-24, -5.227701249539627e-25, -6.430562619377553e-26, -1.4426041654238187e-26, -2.793423702245888e-27, -3.5325049692523244e-28, -1.1606086145656445e-28, -6.346039813976097e-30, -4.6718443235714984e-30, -2.8016973099046968e-33, -1.8458234727377778e-31, 6.566077660072003e-33, -7.244872006786742e-33, 5.013159512813097e-34, -2.7671023296393434e-34, 2.6907515272653393e-35, -1.0625657665530964e-35, 1.2521105525557631e-36, -3.946571478568872e-37, 5.322815079141848e-38, -1.4878670542708944e-38, 2.1884896137801982e-39, -5.66209459862327e-40, 8.880698588666276e-41, -2.1208418740897475e-41, 3.437998381973516e-42, -8.018877058453609e-43, 1.3656281343871702e-43, -3.010463087906226e-44, 5.288856273117264e-45, -1.0975747918148248e-45, 2.0265565122816978e-46, -4.148937339067793e-47, 7.666975078207965e-48, -1.520148020542968e-48, 2.8216113438496654e-49, -5.835465725756615e-50, 1.0864633692943237e-50, -2.0255245804372174e-51, 3.848753052803847e-52, -7.682963025179743e-53, 1.4566044721727396e-53, -2.8738996744486064e-54, 5.22395422572322e-55, -1.0656425056050481e-55, 1.8921473625476144e-56, -3.7450175280331343e-57, 7.496116184990927e-58, -1.346531835608784e-58, 2.4931057218341267e-59, -5.086409038022539e-60, 8.73076737567862e-61, -1.7131622614275686e-61, 3.1545378280210614e-62, -5.806346982335259e-63, 1.1673586083519454e-63, -1.8156212831410462e-64, 3.3663455742413453e-65, -6.695885353125655e-66, 1.2876785470061612e-66, -2.366288949619737e-67, 3.608517322031971e-68, -8.039970919071879e-69, 1.422304073738462e-69, -1.8403876519584277e-70, 3.669368089035062e-71, -4.810116381294787e-72, 1.0768280403088928e-72, -2.31030706535659e-73, 2.046318955711929e-74, -2.60791346358345e-75, -1.9415216773267296e-76, -2.2132121697174014e-77, -3.874038159929886e-77, 9.338736236493577e-78, -1.3005886213923825e-78, 4.891299467138014e-79, -1.4802951836088416e-79, 3.1640552506981804e-80, -6.350405638850787e-81, 1.2426618804703684e-81, -2.9520349438458553e-82, 8.264867263323192e-83, -1.6174668829539245e-83, 3.609199113593527e-84, -6.973728355990596e-85, 1.383023505833128e-85, -3.5462635346559835e-86, 6.485259304116894e-87, -1.3908805130689692e-87, 2.4822117897909814e-88, -6.613368624474577e-89, 1.160186742851105e-89, -2.8090891920698595e-90, 5.005656959121928e-91, -1.0415326004656098e-91, 2.547075967456334e-92, -4.6931333615527596e-93, 1.0298022925460332e-93, -2.2700111421608836e-94, 3.94593324221714e-95, -8.708029947742916e-96, 1.8385019934069172e-96, -3.7023431849077205e-97, 7.802102490302309e-98, -1.3990908322777988e-98, 3.1513319029330262e-99, -6.245799839420778e-100, 1.2655763778181803e-100, -2.6333848355850466e-101, 4.9848343595310165e-102, -1.0392962306521329e-102, 2.158962824902573e-103, -4.0972933465944973e-104, 9.373418002987366e-105, -1.8057018082976333e-105, 3.681645744993287e-106, -7.7714795160709e-107, 1.658874575275455e-107, -3.082997443835975e-108, 6.57994024206056e-109, -1.2457447155085406e-109, 2.6696559030276034e-110, -4.999499664911037e-111, 1.0296190356384936e-111, -2.2317144351579817e-112, 4.322574930182714e-113, -8.731777416893819e-114, 1.8146485297260682e-114, -3.37825243829534e-115, 7.314858405512577e-116, -1.5746117158184694e-116, 3.009569711241866e-117, -5.847120286552537e-118, 1.1711157911532108e-118, -2.520917044178366e-119, 4.8454036875984586e-120, -9.82354125547384e-121, 2.038702886676213e-121, -4.1071360082813747e-122, 8.252785534032514e-123, -1.71022124703191e-123, 3.2605163411724186e-124, -5.954178128440644e-125, 1.3464142029430935e-125, -2.7226289572459336e-126, 5.1669958649448346e-127, -1.0761725143986394e-127, 2.1616078842161762e-128]\n"
          ]
        }
      ]
    },
    {
      "cell_type": "markdown",
      "metadata": {
        "id": "TLTU-3ojMA-J"
      },
      "source": [
        "## Training a polynomial regression model with L1 regularization"
      ]
    },
    {
      "cell_type": "code",
      "metadata": {
        "id": "sBfyPNvMMA-J",
        "colab": {
          "base_uri": "https://localhost:8080/"
        },
        "outputId": "606217ae-e218-43c5-c978-74235729ad34"
      },
      "source": [
        "from sklearn import linear_model\n",
        "## TODO ##\n",
        "# use sklearn Lasso (linear regression with L1 Norm) to fit the data \n",
        "# normalization trick ;)\n",
        "\n",
        "model_L1_reg = linear_model.Lasso(alpha=0.1,normalize = True)\n",
        "model_L1_reg.fit(X_train,  y_train)"
      ],
      "execution_count": 32,
      "outputs": [
        {
          "output_type": "stream",
          "name": "stderr",
          "text": [
            "/usr/local/lib/python3.7/dist-packages/sklearn/linear_model/_base.py:145: FutureWarning: 'normalize' was deprecated in version 1.0 and will be removed in 1.2.\n",
            "If you wish to scale the data, use Pipeline with a StandardScaler in a preprocessing stage. To reproduce the previous behavior:\n",
            "\n",
            "from sklearn.pipeline import make_pipeline\n",
            "\n",
            "model = make_pipeline(StandardScaler(with_mean=False), Lasso())\n",
            "\n",
            "If you wish to pass a sample_weight parameter, you need to pass it as a fit parameter to each step of the pipeline as follows:\n",
            "\n",
            "kwargs = {s[0] + '__sample_weight': sample_weight for s in model.steps}\n",
            "model.fit(X, y, **kwargs)\n",
            "\n",
            "Set parameter alpha to: original_alpha * np.sqrt(n_samples). \n",
            "  FutureWarning,\n"
          ]
        },
        {
          "output_type": "execute_result",
          "data": {
            "text/plain": [
              "Lasso(alpha=0.1, normalize=True)"
            ]
          },
          "metadata": {},
          "execution_count": 32
        }
      ]
    },
    {
      "cell_type": "code",
      "metadata": {
        "id": "LOYlQsU5MA-K",
        "colab": {
          "base_uri": "https://localhost:8080/",
          "height": 358
        },
        "outputId": "ca14d9d3-573e-44d2-f88e-6730c7ad2f33"
      },
      "source": [
        "display_results(model_L1_reg)  #remain of weights = 0"
      ],
      "execution_count": 33,
      "outputs": [
        {
          "output_type": "stream",
          "name": "stdout",
          "text": [
            "Training error (rmse): 1.9316787411309393\n",
            "Testing error (rmse): 2.8805337208066106\n"
          ]
        },
        {
          "output_type": "display_data",
          "data": {
            "text/plain": [
              "<Figure size 432x288 with 1 Axes>"
            ],
            "image/png": "[encoded data removed]"
          },
          "metadata": {
            "needs_background": "light"
          }
        },
        {
          "output_type": "stream",
          "name": "stdout",
          "text": [
            "Polynomial coefficients\n",
            "[13.30321361730401, 0.0, -0.8613138368567548, 0.061452345248984554, -0.0005835006640770497, 0.00011886814060014096, -0.0, 0.0, -0.0, 0.0, -0.0, 0.0, -0.0, 0.0, -0.0, 0.0, -0.0, 0.0, -0.0, 0.0, -0.0, 0.0, -0.0, 0.0, -0.0, 0.0, -0.0, 0.0, -0.0, 0.0, -0.0, 0.0, -0.0, 0.0, -0.0, 0.0, -0.0, 0.0, -0.0, 0.0, -0.0, 0.0, -0.0, 0.0, -0.0, 0.0, -0.0, 0.0, -0.0, 0.0, -0.0, 0.0, -0.0, 0.0, -0.0, 0.0, -0.0, 0.0, -0.0, 0.0, -0.0, 0.0, -0.0, 0.0, -0.0, 0.0, -0.0, 0.0, -0.0, 0.0, -0.0, 0.0, -0.0, 0.0, -0.0, 0.0, -0.0, 0.0, -0.0, 0.0, -0.0, 0.0, -0.0, 0.0, -0.0, 0.0, -0.0, 0.0, -0.0, 0.0, -0.0, 0.0, -0.0, 0.0, -0.0, 0.0, -0.0, 0.0, -0.0, 0.0, -0.0, 0.0, -0.0, 0.0, -0.0, 0.0, -0.0, 0.0, -0.0, 0.0, -0.0, 0.0, -0.0, 0.0, -0.0, 0.0, -0.0, 0.0, -0.0, 0.0, -0.0, 0.0, -0.0, 0.0, -0.0, 0.0, -0.0, 0.0, -0.0, 0.0, -0.0, 0.0, -0.0, 0.0, -0.0, 0.0, -0.0, 0.0, -0.0, 0.0, -0.0, 0.0, -0.0, 0.0, -0.0, 0.0, -0.0, 0.0, -0.0, 0.0, -0.0, 0.0, -0.0, 0.0, -0.0, 0.0, -0.0, 0.0, -0.0, 0.0, -0.0, 0.0, -0.0, 0.0, -0.0, 0.0, -0.0, 0.0, -0.0, 0.0, -0.0, 0.0, -0.0, 0.0, -0.0, 0.0, -0.0, 0.0, -0.0, 0.0, -0.0, 0.0, -0.0, 0.0, -0.0, 0.0, -0.0, 0.0, -0.0, 0.0, -0.0, 0.0, -0.0, 0.0, -0.0, 0.0, -0.0, 0.0, -0.0, 0.0, -0.0]\n"
          ]
        }
      ]
    },
    {
      "cell_type": "markdown",
      "metadata": {
        "id": "21v4zgmbMA-K"
      },
      "source": [
        "## Training a polynomial regression model with L2 regularization"
      ]
    },
    {
      "cell_type": "code",
      "metadata": {
        "id": "MrSeiPXPMA-K",
        "colab": {
          "base_uri": "https://localhost:8080/"
        },
        "outputId": "e7896d49-8517-4fc0-bc47-9f89e768aaea"
      },
      "source": [
        "from sklearn import linear_model\n",
        "## TODO ##\n",
        "# use sklearn Ridge (linear regression with L2 Norm) to fit the data \n",
        "# normalization trick ;)\n",
        "\n",
        "model_L2_reg = linear_model.Ridge(alpha=1.0 ,normalize = True)\n",
        "model_L2_reg.fit(X_train,  y_train)"
      ],
      "execution_count": 35,
      "outputs": [
        {
          "output_type": "stream",
          "name": "stderr",
          "text": [
            "/usr/local/lib/python3.7/dist-packages/sklearn/linear_model/_base.py:145: FutureWarning: 'normalize' was deprecated in version 1.0 and will be removed in 1.2.\n",
            "If you wish to scale the data, use Pipeline with a StandardScaler in a preprocessing stage. To reproduce the previous behavior:\n",
            "\n",
            "from sklearn.pipeline import make_pipeline\n",
            "\n",
            "model = make_pipeline(StandardScaler(with_mean=False), Ridge())\n",
            "\n",
            "If you wish to pass a sample_weight parameter, you need to pass it as a fit parameter to each step of the pipeline as follows:\n",
            "\n",
            "kwargs = {s[0] + '__sample_weight': sample_weight for s in model.steps}\n",
            "model.fit(X, y, **kwargs)\n",
            "\n",
            "Set parameter alpha to: original_alpha * n_samples. \n",
            "  FutureWarning,\n"
          ]
        },
        {
          "output_type": "execute_result",
          "data": {
            "text/plain": [
              "Ridge(normalize=True)"
            ]
          },
          "metadata": {},
          "execution_count": 35
        }
      ]
    },
    {
      "cell_type": "code",
      "metadata": {
        "id": "TyLoFFM_MA-L",
        "colab": {
          "base_uri": "https://localhost:8080/",
          "height": 358
        },
        "outputId": "2a0165dd-c287-4f44-cd99-f9fa9dfefbce"
      },
      "source": [
        "display_results(model_L2_reg)"
      ],
      "execution_count": 36,
      "outputs": [
        {
          "output_type": "stream",
          "name": "stdout",
          "text": [
            "Training error (rmse): 3.121909344686299\n",
            "Testing error (rmse): 4.4275436349042065\n"
          ]
        },
        {
          "output_type": "display_data",
          "data": {
            "text/plain": [
              "<Figure size 432x288 with 1 Axes>"
            ],
            "image/png": "[encoded data removed]"
          },
          "metadata": {
            "needs_background": "light"
          }
        },
        {
          "output_type": "stream",
          "name": "stdout",
          "text": [
            "Polynomial coefficients\n",
            "[10.881532845320677, 0.23828595844762507, -0.25406095715459825, 0.011266628844204256, -0.007889717420256136, 0.0004448858886915869, -0.00023401638258781427, 1.5896560203072958e-05, -6.733014209562244e-06, 5.261601022892162e-07, -1.9036148731946865e-07, 1.6509692569537927e-08, -5.339671516321193e-09, 5.001608774971907e-10, -1.4926346123810284e-10, 1.4796835991814837e-11, -4.162324981793207e-12, 4.3000189170188184e-13, -1.1567984296365116e-13, 1.2299879343841192e-14, -3.1972298735306437e-15, 3.4599271978068994e-16, -8.75831159165003e-17, 9.534388590976782e-18, -2.3658749743985514e-18, 2.5534381076861146e-19, -6.251548656184337e-20, 6.544807699541032e-21, -1.5935297228657594e-21, 1.554700408467074e-22, -3.8133447229605556e-23, 3.150011046415381e-24, -8.029935928593625e-25, 3.77592273707119e-26, -1.1769044978278313e-26, -1.017320617332883e-27, 1.015853959761954e-28, -1.1280274664548792e-28, 2.0122093077026712e-29, -6.559586297460087e-30, 1.253997427568813e-30, -3.2018623864799648e-31, 6.266454477778534e-32, -1.4427335439328415e-32, 2.8525939037635973e-33, -6.220454400943493e-34, 1.2359418828830577e-34, -2.611230359250727e-35, 5.200771593561118e-36, -1.0775149428238118e-36, 2.1485972397558984e-37, -4.396062719742356e-38, 8.770584496150046e-39, -1.779758134240139e-39, 3.5515492110483797e-40, -7.167485730572393e-41, 1.4303676042279443e-41, -2.876036527709523e-42, 5.739448941487297e-43, -1.1511603097440095e-43, 2.2971981627024256e-44, -4.5997618031015634e-45, 9.178831033964969e-46, -1.835845820852217e-46, 3.663405938689568e-47, -7.321691829456482e-48, 1.4610539422729056e-48, -2.918669108839526e-49, 5.824448818756116e-50, -1.1631758228394338e-50, 2.321340859042042e-51, -4.6350773569580435e-52, 9.25084449206562e-53, -1.8469957040904293e-53, 3.686609695070364e-54, -7.36046638217034e-55, 1.4692927915778238e-55, -2.9335888523083216e-56, 5.856630049658099e-57, -1.1694043750487676e-57, 2.3348643386732693e-58, -4.662446022483596e-59, 9.31024733393139e-60, -1.859323408327868e-60, 3.7132501596768166e-61, -7.416409622057196e-62, 1.4813091435923012e-62, -2.9589233224656804e-63, 5.910698770186983e-64, -1.180801713227805e-64, 2.359039614547775e-65, -4.713292110952844e-66, 9.417496674600003e-67, -1.8818101993587264e-67, 3.7604451939499116e-68, -7.515028545802738e-69, 1.5019160916681353e-69, -3.001840085614289e-70, 6.000028034790111e-71, -1.1993471625412008e-71, 2.39750929707912e-72, -4.792926161299256e-73, 9.582187264413437e-74, -1.915811685466285e-74, 3.8305756804340483e-75, -7.659470618478701e-76, 1.5316376089882297e-76, -3.0629225634687063e-77, 6.125450034182274e-78, -1.225073023992518e-78, 2.450232669853021e-79, -4.900878524530164e-80, 9.803051400684969e-81, -1.9609619356558695e-81, 3.922808568762727e-82, -7.847745240165333e-83, 1.5700449028820067e-83, -3.141220153704748e-84, 6.284972743949159e-85, -1.2575546043932659e-85, 2.516334393145401e-86, -5.035326085134603e-87, 1.0076372853440505e-87, -2.0164986250800834e-88, 4.0356022426078514e-89, -8.07672305978173e-90, 1.6165089182216836e-90, -3.235465588006155e-91, 6.476060642825402e-92, -1.2962840134621292e-92, 2.5948021240012547e-93, -5.194249971230766e-94, 1.0398140084535058e-94, -2.0816245697161878e-95, 4.167376847453801e-96, -8.343273608117584e-97, 1.6704106628806088e-97, -3.344435305142692e-98, 6.696299144936302e-99, -1.3407849484478909e-99, 2.684697570032299e-100, -5.375802646554934e-101, 1.0764719281588488e-101, -2.1556254065554994e-102, 4.316729365563241e-103, -8.644642730686246e-104, 1.7312099367178475e-104, -3.467070295480557e-105, 6.943613691901285e-106, -1.3906512185290608e-106, 2.7852259570605034e-107, -5.578429804588489e-108, 1.1173072643178123e-108, -2.237907716113862e-109, 4.4825012642062043e-110, -8.978569772916167e-111, 1.798465866828332e-111, -3.6025112081508223e-112, 7.216330166306249e-113, -1.4455568547522185e-113, 2.8957529391849396e-114, -5.800897641199659e-115, 1.162080175713712e-115, -2.328005521022853e-116, 4.663787731927693e-117, -9.343298810912656e-118, 1.871837890493234e-118, -3.750097910572418e-119, 7.513169783870895e-120, -1.5052542908962454e-120, 3.0157995531476416e-121, -6.042280131060396e-122, 1.2106117497594295e-122, -2.425573401975273e-123, 4.859922382926866e-124, -9.737545251661054e-125, 1.951078579387792e-125, -3.90935423369584e-126, 7.833216996763973e-127, -1.5695676581388343e-127, 3.14502830899435e-128, -6.301930322376349e-129, 1.2627781087534681e-129, -2.5303744436024584e-130, 5.070452698496934e-131, -1.0160445950001468e-131, 2.036023537777912e-132, -4.079967564583574e-133, 8.175878365560891e-134, -1.6383845128291345e-134, 3.283226584216059e-135, -6.579447057166796e-136, 1.3185037510469255e-136, -2.6422669296698165e-137, 5.295113479069629e-138, -1.0611506299015688e-138, 2.1265808698558476e-139, -4.261767900736662e-140, 8.540840947037018e-141, -1.7116475769085267e-141, 3.430290243435349e-142]\n"
          ]
        }
      ]
    },
    {
      "cell_type": "markdown",
      "metadata": {
        "id": "1EsLoBMqMA-L"
      },
      "source": [
        "## Viewing the predictions in the testing set"
      ]
    },
    {
      "cell_type": "code",
      "metadata": {
        "id": "TPp6zYZ6MA-L",
        "colab": {
          "base_uri": "https://localhost:8080/",
          "height": 300
        },
        "outputId": "149ade1c-564a-425b-bab8-87040fbea1cb"
      },
      "source": [
        "import pandas as pd\n",
        "from IPython.display import display\n",
        "predictions={}\n",
        "predictions ['x']=X_test[:,0]\n",
        "predictions ['y']=y_test\n",
        "predictions['No reg'] = model_no_reg.predict(X_test)\n",
        "predictions['L1 reg'] = model_L1_reg.predict(X_test)\n",
        "predictions['L2 reg'] = model_L2_reg.predict(X_test)\n",
        "predictions=pd.DataFrame.from_dict(predictions)\n",
        "display(predictions)"
      ],
      "execution_count": 37,
      "outputs": [
        {
          "output_type": "display_data",
          "data": {
            "text/plain": [
              "          x          y        No reg     L1 reg     L2 reg\n",
              "0 -2.560891   6.043190  2.200442e+01   6.584311   7.931675\n",
              "1  1.681532  16.070558 -4.092290e+02  11.156921  10.555227\n",
              "2 -3.909422  -7.163796  2.386585e+08  -3.777365   1.231584\n",
              "3 -1.966873  11.133218  6.404541e+00   9.491321   9.195780\n",
              "4  4.097463   5.933186  2.066636e+07   3.042757   5.195887\n",
              "5  3.424602   3.526993 -8.227201e+04   5.645679   7.868329\n",
              "6  1.108870  16.141450  1.403262e+01  12.327254  10.837132\n",
              "7  4.328338   2.748648 -6.944429e+09   2.125830   3.786534"
            ],
            "text/html": [
              "\n",
              "  <div id=\"df-540cbf3c-0e9f-4506-958c-e4cd6acdd871\">\n",
              "    <div class=\"colab-df-container\">\n",
              "      <div>\n",
              "<style scoped>\n",
              "    .dataframe tbody tr th:only-of-type {\n",
              "        vertical-align: middle;\n",
              "    }\n",
              "\n",
              "    .dataframe tbody tr th {\n",
              "        vertical-align: top;\n",
              "    }\n",
              "\n",
              "    .dataframe thead th {\n",
              "        text-align: right;\n",
              "    }\n",
              "</style>\n",
              "<table border=\"1\" class=\"dataframe\">\n",
              "  <thead>\n",
              "    <tr style=\"text-align: right;\">\n",
              "      <th></th>\n",
              "      <th>x</th>\n",
              "      <th>y</th>\n",
              "      <th>No reg</th>\n",
              "      <th>L1 reg</th>\n",
              "      <th>L2 reg</th>\n",
              "    </tr>\n",
              "  </thead>\n",
              "  <tbody>\n",
              "    <tr>\n",
              "      <th>0</th>\n",
              "      <td>-2.560891</td>\n",
              "      <td>6.043190</td>\n",
              "      <td>2.200442e+01</td>\n",
              "      <td>6.584311</td>\n",
              "      <td>7.931675</td>\n",
              "    </tr>\n",
              "    <tr>\n",
              "      <th>1</th>\n",
              "      <td>1.681532</td>\n",
              "      <td>16.070558</td>\n",
              "      <td>-4.092290e+02</td>\n",
              "      <td>11.156921</td>\n",
              "      <td>10.555227</td>\n",
              "    </tr>\n",
              "    <tr>\n",
              "      <th>2</th>\n",
              "      <td>-3.909422</td>\n",
              "      <td>-7.163796</td>\n",
              "      <td>2.386585e+08</td>\n",
              "      <td>-3.777365</td>\n",
              "      <td>1.231584</td>\n",
              "    </tr>\n",
              "    <tr>\n",
              "      <th>3</th>\n",
              "      <td>-1.966873</td>\n",
              "      <td>11.133218</td>\n",
              "      <td>6.404541e+00</td>\n",
              "      <td>9.491321</td>\n",
              "      <td>9.195780</td>\n",
              "    </tr>\n",
              "    <tr>\n",
              "      <th>4</th>\n",
              "      <td>4.097463</td>\n",
              "      <td>5.933186</td>\n",
              "      <td>2.066636e+07</td>\n",
              "      <td>3.042757</td>\n",
              "      <td>5.195887</td>\n",
              "    </tr>\n",
              "    <tr>\n",
              "      <th>5</th>\n",
              "      <td>3.424602</td>\n",
              "      <td>3.526993</td>\n",
              "      <td>-8.227201e+04</td>\n",
              "      <td>5.645679</td>\n",
              "      <td>7.868329</td>\n",
              "    </tr>\n",
              "    <tr>\n",
              "      <th>6</th>\n",
              "      <td>1.108870</td>\n",
              "      <td>16.141450</td>\n",
              "      <td>1.403262e+01</td>\n",
              "      <td>12.327254</td>\n",
              "      <td>10.837132</td>\n",
              "    </tr>\n",
              "    <tr>\n",
              "      <th>7</th>\n",
              "      <td>4.328338</td>\n",
              "      <td>2.748648</td>\n",
              "      <td>-6.944429e+09</td>\n",
              "      <td>2.125830</td>\n",
              "      <td>3.786534</td>\n",
              "    </tr>\n",
              "  </tbody>\n",
              "</table>\n",
              "</div>\n",
              "      <button class=\"colab-df-convert\" onclick=\"convertToInteractive('df-540cbf3c-0e9f-4506-958c-e4cd6acdd871')\"\n",
              "              title=\"Convert this dataframe to an interactive table.\"\n",
              "              style=\"display:none;\">\n",
              "        \n",
              "  <svg xmlns=\"http://www.w3.org/2000/svg\" height=\"24px\"viewBox=\"0 0 24 24\"\n",
              "       width=\"24px\">\n",
              "    <path d=\"M0 0h24v24H0V0z\" fill=\"none\"/>\n",
              "    <path d=\"M18.56 5.44l.94 2.06.94-2.06 2.06-.94-2.06-.94-.94-2.06-.94 2.06-2.06.94zm-11 1L8.5 8.5l.94-2.06 2.06-.94-2.06-.94L8.5 2.5l-.94 2.06-2.06.94zm10 10l.94 2.06.94-2.06 2.06-.94-2.06-.94-.94-2.06-.94 2.06-2.06.94z\"/><path d=\"M17.41 7.96l-1.37-1.37c-.4-.4-.92-.59-1.43-.59-.52 0-1.04.2-1.43.59L10.3 9.45l-7.72 7.72c-.78.78-.78 2.05 0 2.83L4 21.41c.39.39.9.59 1.41.59.51 0 1.02-.2 1.41-.59l7.78-7.78 2.81-2.81c.8-.78.8-2.07 0-2.86zM5.41 20L4 18.59l7.72-7.72 1.47 1.35L5.41 20z\"/>\n",
              "  </svg>\n",
              "      </button>\n",
              "      \n",
              "  <style>\n",
              "    .colab-df-container {\n",
              "      display:flex;\n",
              "      flex-wrap:wrap;\n",
              "      gap: 12px;\n",
              "    }\n",
              "\n",
              "    .colab-df-convert {\n",
              "      background-color: #E8F0FE;\n",
              "      border: none;\n",
              "      border-radius: 50%;\n",
              "      cursor: pointer;\n",
              "      display: none;\n",
              "      fill: #1967D2;\n",
              "      height: 32px;\n",
              "      padding: 0 0 0 0;\n",
              "      width: 32px;\n",
              "    }\n",
              "\n",
              "    .colab-df-convert:hover {\n",
              "      background-color: #E2EBFA;\n",
              "      box-shadow: 0px 1px 2px rgba(60, 64, 67, 0.3), 0px 1px 3px 1px rgba(60, 64, 67, 0.15);\n",
              "      fill: #174EA6;\n",
              "    }\n",
              "\n",
              "    [theme=dark] .colab-df-convert {\n",
              "      background-color: #3B4455;\n",
              "      fill: #D2E3FC;\n",
              "    }\n",
              "\n",
              "    [theme=dark] .colab-df-convert:hover {\n",
              "      background-color: #434B5C;\n",
              "      box-shadow: 0px 1px 3px 1px rgba(0, 0, 0, 0.15);\n",
              "      filter: drop-shadow(0px 1px 2px rgba(0, 0, 0, 0.3));\n",
              "      fill: #FFFFFF;\n",
              "    }\n",
              "  </style>\n",
              "\n",
              "      <script>\n",
              "        const buttonEl =\n",
              "          document.querySelector('#df-540cbf3c-0e9f-4506-958c-e4cd6acdd871 button.colab-df-convert');\n",
              "        buttonEl.style.display =\n",
              "          google.colab.kernel.accessAllowed ? 'block' : 'none';\n",
              "\n",
              "        async function convertToInteractive(key) {\n",
              "          const element = document.querySelector('#df-540cbf3c-0e9f-4506-958c-e4cd6acdd871');\n",
              "          const dataTable =\n",
              "            await google.colab.kernel.invokeFunction('convertToInteractive',\n",
              "                                                     [key], {});\n",
              "          if (!dataTable) return;\n",
              "\n",
              "          const docLinkHtml = 'Like what you see? Visit the ' +\n",
              "            '<a target=\"_blank\" href=https://colab.research.google.com/notebooks/data_table.ipynb>data table notebook</a>'\n",
              "            + ' to learn more about interactive tables.';\n",
              "          element.innerHTML = '';\n",
              "          dataTable['output_type'] = 'display_data';\n",
              "          await google.colab.output.renderOutput(dataTable, element);\n",
              "          const docLink = document.createElement('div');\n",
              "          docLink.innerHTML = docLinkHtml;\n",
              "          element.appendChild(docLink);\n",
              "        }\n",
              "      </script>\n",
              "    </div>\n",
              "  </div>\n",
              "  "
            ]
          },
          "metadata": {}
        }
      ]
    }
  ]
}